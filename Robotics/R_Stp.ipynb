{
 "cells": [
  {
   "cell_type": "code",
   "execution_count": 4,
   "metadata": {},
   "outputs": [
    {
     "ename": "ModuleNotFoundError",
     "evalue": "No module named 'OCP'",
     "output_type": "error",
     "traceback": [
      "\u001b[1;31m---------------------------------------------------------------------------\u001b[0m",
      "\u001b[1;31mModuleNotFoundError\u001b[0m                       Traceback (most recent call last)",
      "Cell \u001b[1;32mIn[4], line 1\u001b[0m\n\u001b[1;32m----> 1\u001b[0m \u001b[38;5;28;01mfrom\u001b[39;00m \u001b[38;5;21;01mOCP\u001b[39;00m\u001b[38;5;21;01m.\u001b[39;00m\u001b[38;5;21;01mSTEPControl\u001b[39;00m \u001b[38;5;28;01mimport\u001b[39;00m STEPControl_Reader\n\u001b[0;32m      2\u001b[0m \u001b[38;5;28;01mfrom\u001b[39;00m \u001b[38;5;21;01mOCP\u001b[39;00m\u001b[38;5;21;01m.\u001b[39;00m\u001b[38;5;21;01mIFSelect\u001b[39;00m \u001b[38;5;28;01mimport\u001b[39;00m IFSelect_RetDone\n\u001b[0;32m      3\u001b[0m \u001b[38;5;28;01mfrom\u001b[39;00m \u001b[38;5;21;01mOCP\u001b[39;00m\u001b[38;5;21;01m.\u001b[39;00m\u001b[38;5;21;01mTopAbs\u001b[39;00m \u001b[38;5;28;01mimport\u001b[39;00m TopAbs_FACE, TopAbs_VERTEX\n",
      "\u001b[1;31mModuleNotFoundError\u001b[0m: No module named 'OCP'"
     ]
    }
   ],
   "source": [
    "from OCP.STEPControl import STEPControl_Reader\n",
    "from OCP.IFSelect import IFSelect_RetDone\n",
    "from OCP.TopAbs import TopAbs_FACE, TopAbs_VERTEX\n",
    "from OCP.TopExp import TopExp_Explorer\n",
    "from OCP.TopoDS import TopoDS_Shape\n",
    "from OCP.BRep import BRep_Tool\n",
    "from OCP.gp import gp_Pnt\n",
    "\n",
    "# Function to parse the robot's STP file and extract link lengths and joint coordinates\n",
    "def parse_robot_stp(stp_file_path):\n",
    "    link_lengths = []\n",
    "    joint_coordinates = []\n",
    "\n",
    "    # Load the STP file\n",
    "    step_reader = STEPControl_Reader()\n",
    "    status = step_reader.ReadFile(stp_file_path)\n",
    "    if status != IFSelect_RetDone:\n",
    "        raise ValueError(f\"Error reading STEP file: {stp_file_path}\")\n",
    "\n",
    "    # Transfer and get the root shape\n",
    "    step_reader.TransferRoots()\n",
    "    shape = step_reader.OneShape()\n",
    "\n",
    "    # Extract vertices (joints) and edges (links)\n",
    "    explorer = TopExp_Explorer(shape, TopAbs_VERTEX)\n",
    "    while explorer.More():\n",
    "        vertex = explorer.Current()\n",
    "        point = BRep_Tool.Pnt(vertex)\n",
    "        joint_coordinates.append([point.X(), point.Y(), point.Z()])\n",
    "        explorer.Next()\n",
    "\n",
    "    # Here we use face length as a placeholder for link length,\n",
    "    # adjust based on specific needs for your robot structure.\n",
    "    face_explorer = TopExp_Explorer(shape, TopAbs_FACE)\n",
    "    while face_explorer.More():\n",
    "        face = face_explorer.Current()\n",
    "        # Hypothetical link length processing, adjust as needed\n",
    "        link_lengths.append(1.0)  # Placeholder, replace with actual length calculation\n",
    "        face_explorer.Next()\n",
    "\n",
    "    return link_lengths, joint_coordinates\n",
    "\n",
    "# Function to parse the workpiece's STP file and extract surface points\n",
    "def parse_workpiece_stp(stp_file_path):\n",
    "    surface_points = []\n",
    "\n",
    "    # Load the STP file\n",
    "    step_reader = STEPControl_Reader()\n",
    "    status = step_reader.ReadFile(stp_file_path)\n",
    "    if status != IFSelect_RetDone:\n",
    "        raise ValueError(f\"Error reading STEP file: {stp_file_path}\")\n",
    "\n",
    "    # Transfer and get the root shape\n",
    "    step_reader.TransferRoots()\n",
    "    shape = step_reader.OneShape()\n",
    "\n",
    "    # Extract surface points by iterating over vertices\n",
    "    explorer = TopExp_Explorer(shape, TopAbs_VERTEX)\n",
    "    while explorer.More():\n",
    "        vertex = explorer.Current()\n",
    "        point = BRep_Tool.Pnt(vertex)\n",
    "        surface_points.append([point.X(), point.Y(), point.Z()])\n",
    "        explorer.Next()\n",
    "\n",
    "    return surface_points\n",
    "\n",
    "# Example usage:\n",
    "robot_stp_file = \"C:/Users/sannj/Downloads/Robot.step\"\n",
    "workpiece_stp_file = \"C:/Users/sannj/Downloads/Workpiece.step\"\n",
    "link_lengths, joint_coordinates = parse_robot_stp(robot_stp_file)\n",
    "surface_points = parse_workpiece_stp(workpiece_stp_file)\n",
    "\n",
    "print(\"Link Lengths:\", link_lengths)\n",
    "print(\"Joint Coordinates:\", joint_coordinates)\n",
    "print(\"Surface Points:\", surface_points)"
   ]
  },
  {
   "cell_type": "code",
   "execution_count": null,
   "metadata": {},
   "outputs": [],
   "source": []
  }
 ],
 "metadata": {
  "kernelspec": {
   "display_name": "Python 3",
   "language": "python",
   "name": "python3"
  },
  "language_info": {
   "codemirror_mode": {
    "name": "ipython",
    "version": 3
   },
   "file_extension": ".py",
   "mimetype": "text/x-python",
   "name": "python",
   "nbconvert_exporter": "python",
   "pygments_lexer": "ipython3",
   "version": "3.12.6"
  }
 },
 "nbformat": 4,
 "nbformat_minor": 2
}
