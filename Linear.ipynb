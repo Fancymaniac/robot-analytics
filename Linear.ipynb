{
 "cells": [
  {
   "cell_type": "code",
   "execution_count": 6,
   "metadata": {},
   "outputs": [
    {
     "name": "stdout",
     "output_type": "stream",
     "text": [
      "A = A * T_inv:\n",
      "[[ -2.   1.   1.]\n",
      " [-10.  -1.  -5.]\n",
      " [ 10.  -1.   2.]]\n",
      "\n",
      "Original Matrix A:\n",
      "[[ 18   9  13]\n",
      " [ 50  23  35]\n",
      " [-65 -31 -46]]\n",
      "\n",
      "Original Matrix B:\n",
      "[ 5 -5  5]\n",
      "\n",
      "Transformation Matrix T:\n",
      "[[-4 -2 -3]\n",
      " [15  7 10]\n",
      " [-5 -2 -3]]\n",
      "\n",
      "Inverse of Transformation Matrix T_inv:\n",
      "[[ 1.00000000e+00 -4.73695157e-16 -1.00000000e+00]\n",
      " [ 5.00000000e+00  3.00000000e+00  5.00000000e+00]\n",
      " [-5.00000000e+00 -2.00000000e+00 -2.00000000e+00]]\n",
      "\n",
      "Transformed Matrix A_xi (A in the new state coordinates):\n",
      "[[-2.00000000e+00  1.00000000e+00  1.11022302e-14]\n",
      " [ 6.03961325e-14 -2.00000000e+00 -3.64153152e-14]\n",
      " [-1.59872116e-14  7.10542736e-15 -1.00000000e+00]]\n",
      "\n",
      "Transformed Matrix C_xi (C in the new state coordinates):\n",
      "[-25  90 -30]\n"
     ]
    }
   ],
   "source": [
    "import numpy as np\n",
    "\n",
    "A = np.array([[18, 9, 13], [50, 23, 35], [-65, -31, -46]])\n",
    "B = np.array([5, -5, 5])\n",
    "T = np.array([[-4, -2, -3], [15, 7, 10], [-5, -2, -3]])\n",
    "\n",
    "# inverse of the T\n",
    "T_inv = np.linalg.inv(T)\n",
    "\n",
    "# A = A * T_inv\n",
    "A_Tin = np.dot(A, T_inv)\n",
    "print(\"A = A * T_inv:\")\n",
    "print(A_Tin)\n",
    "\n",
    "# Compute A_xi = T * A * T_inv\n",
    "A_xi = np.dot(T, np.dot(A, T_inv))\n",
    "\n",
    "# Compute B_xi = T * B\n",
    "B_xi = np.dot(T, B)\n",
    "\n",
    "# Display all the matrices\n",
    "print(\"\\nOriginal Matrix A:\")\n",
    "print(A)\n",
    "\n",
    "print(\"\\nOriginal Matrix B:\")\n",
    "print(B)\n",
    "\n",
    "print(\"\\nTransformation Matrix T:\")\n",
    "print(T)\n",
    "\n",
    "print(\"\\nInverse of Transformation Matrix T_inv:\")\n",
    "print(T_inv)\n",
    "\n",
    "print(\"\\nTransformed Matrix A_xi (A in the new state coordinates):\")\n",
    "print(A_xi)\n",
    "\n",
    "print(\"\\nTransformed Matrix C_xi (C in the new state coordinates):\")\n",
    "print(B_xi)\n",
    "\n"
   ]
  },
  {
   "cell_type": "code",
   "execution_count": null,
   "metadata": {},
   "outputs": [],
   "source": []
  }
 ],
 "metadata": {
  "kernelspec": {
   "display_name": "Python 3",
   "language": "python",
   "name": "python3"
  },
  "language_info": {
   "codemirror_mode": {
    "name": "ipython",
    "version": 3
   },
   "file_extension": ".py",
   "mimetype": "text/x-python",
   "name": "python",
   "nbconvert_exporter": "python",
   "pygments_lexer": "ipython3",
   "version": "3.12.6"
  }
 },
 "nbformat": 4,
 "nbformat_minor": 2
}
