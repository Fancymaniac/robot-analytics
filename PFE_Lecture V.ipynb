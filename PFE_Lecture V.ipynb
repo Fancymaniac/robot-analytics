{
 "cells": [
  {
   "cell_type": "markdown",
   "metadata": {},
   "source": [
    "Python Fundamentals\n",
    "1. Strings\n",
    "2. Lists\n",
    "3. Control Flow\n",
    "4. Loops\n",
    "\n",
    "in python else if is elif\n",
    "\n",
    "1. Strings: \n",
    "    can include numbers, letters and spaces\n",
    "    each character starts from the index 0 and starts from -1 while reversing the string\n",
    "    strings are immutable (cannot be changed once created)\n",
    "    can be used with ' ', \" \" or \"\"\" \"\"\"\n",
    "    basic string operations: Concatnation (+), Repetition (*), Indexing ([]), Slicing([\"index value will be included in the new string\":\"(n-1) index value will be included in string\": \" -(index value) string will be reversed from that index value\"])\n",
    "    common functions: upper(), lower(), strip(), join()\n"
   ]
  },
  {
   "cell_type": "code",
   "execution_count": 2,
   "metadata": {},
   "outputs": [
    {
     "name": "stdout",
     "output_type": "stream",
     "text": [
      "Hello World\n",
      "hahaha\n",
      "P\n",
      "n\n",
      "yth\n"
     ]
    }
   ],
   "source": [
    "#Concatenation:\n",
    "x= \"Hello\"+\" \"+ \"World\"\n",
    "print(x)\\\n",
    "\n",
    "# Repetition:\n",
    "y= \"ha\"\n",
    "print(y*3)\n",
    "\n",
    "# Indexing:\n",
    "word=\"Python\"\n",
    "print(word[0])\n",
    "print(word[-1])\n",
    "\n",
    "# Slicing:\n",
    "\n",
    "substring= word[1:4]\n",
    "print(substring)"
   ]
  },
  {
   "cell_type": "code",
   "execution_count": 7,
   "metadata": {},
   "outputs": [
    {
     "name": "stdout",
     "output_type": "stream",
     "text": [
      "Hello Python!\n",
      "hello python!\n",
      "Hello World!\n",
      "['one', 'two', 'three']\n",
      "one-two-three\n",
      "H-e-l-l-o- -P-y-t-h-o-n-!\n"
     ]
    }
   ],
   "source": [
    "message= \"Hello Python!\"\n",
    "print(message.strip()) # Removing the \" \" from the RHS\n",
    "print(message.lower()) # Changing all the charaters of the string to lower char\n",
    "print(message.replace(\"Python\", \"World\")) # Replaces the word \"Python\" with the word \"World\"\n",
    "\n",
    "words = \"one,two,three\".split(\",\")\n",
    "print(words) # splits the string with \",\" being the separator\n",
    "\n",
    "joined = \"-\".join(words)\n",
    "print(joined) # joins the words with \"-\" between eeach words\n",
    "\n",
    "x= \"-\".join(message)\n",
    "print(x)"
   ]
  },
  {
   "cell_type": "code",
   "execution_count": 12,
   "metadata": {},
   "outputs": [
    {
     "name": "stdout",
     "output_type": "stream",
     "text": [
      "PYTHON\n",
      "-Python\n",
      "['hello']\n",
      "abble\n"
     ]
    }
   ],
   "source": [
    "print(\"python\".upper()) # will convert all characters to upper\n",
    "print(\"-python\".title()) # will capitalize the first letter in the string\n",
    "\n",
    "# strip(): removes leading and trailing whitespaces\n",
    "\n",
    "message= \"   hello    \"\n",
    "print(message.split())\n",
    "\n",
    "# replace(): Replaces part of the string\n",
    "\n",
    "print(\"apple\".replace(\"p\",\"b\")) "
   ]
  },
  {
   "cell_type": "code",
   "execution_count": 20,
   "metadata": {},
   "outputs": [
    {
     "name": "stdout",
     "output_type": "stream",
     "text": [
      "etaudarG\n",
      "nohtyP\n"
     ]
    }
   ],
   "source": [
    "# REVERSING STRING\n",
    "\n",
    "original= \"Graduate\"\n",
    "reversed_string= original[::-1] # reverse the string using slicing\n",
    "print(reversed_string)\n",
    "\n",
    "word= 'Python'\n",
    "print(word[::-1]) "
   ]
  },
  {
   "cell_type": "markdown",
   "metadata": {},
   "source": [
    "Excercise\n",
    "Convert anything to uppercase\n",
    "Replace spaces with underscores from a sentence\n",
    "Reverse the string you used for upper too"
   ]
  },
  {
   "cell_type": "code",
   "execution_count": 27,
   "metadata": {},
   "outputs": [
    {
     "name": "stdout",
     "output_type": "stream",
     "text": [
      "HELLO\n",
      "Hello,_my_name_is_Sannjay\n",
      "yajnnaS si eman ym ,olleH\n"
     ]
    }
   ],
   "source": [
    "word= \"hello\"\n",
    "capitalize= word.upper()\n",
    "print(capitalize)\n",
    "\n",
    "sentence= \"Hello, my name is Sannjay\"\n",
    "print(sentence.replace(\" \",\"_\"))\n",
    "\n",
    "print(sentence[::-1])"
   ]
  },
  {
   "cell_type": "markdown",
   "metadata": {},
   "source": [
    "2. Lists:\n",
    "    Mutable sequences used ot store collection of items\n",
    "     example:- my_list= [1,\"apple\",3.14]"
   ]
  },
  {
   "cell_type": "code",
   "execution_count": 31,
   "metadata": {},
   "outputs": [
    {
     "name": "stdout",
     "output_type": "stream",
     "text": [
      "Printing Lists\n",
      "[1, 2, 3, 4, 5]\n",
      "['apple', 'banana', 'cherry']\n",
      "[1, 'two', 3.0, True]\n",
      "\n",
      "Indexing:\n",
      "1\n",
      "True\n",
      "\n",
      "Slicing:\n"
     ]
    }
   ],
   "source": [
    "#Types of Lists\n",
    "numbers = [1,2,3,4,5]\n",
    "fruits = ['apple', 'banana', 'cherry']\n",
    "mixed = [1, \"two\", 3.0, True]\n",
    "\n",
    "print(\"Printing Lists\")\n",
    "print(numbers)\n",
    "print(fruits)\n",
    "print(mixed)\n",
    "\n",
    "#Indexing\n",
    "\n",
    "print(\"\\nIndexing:\")\n",
    "print(numbers[0])\n",
    "print(mixed[-1])\n",
    "\n",
    "#Slicing\n",
    "\n",
    "print('\\nSlicing:')\n"
   ]
  },
  {
   "cell_type": "code",
   "execution_count": null,
   "metadata": {},
   "outputs": [],
   "source": []
  }
 ],
 "metadata": {
  "kernelspec": {
   "display_name": "Python 3",
   "language": "python",
   "name": "python3"
  },
  "language_info": {
   "codemirror_mode": {
    "name": "ipython",
    "version": 3
   },
   "file_extension": ".py",
   "mimetype": "text/x-python",
   "name": "python",
   "nbconvert_exporter": "python",
   "pygments_lexer": "ipython3",
   "version": "3.12.6"
  }
 },
 "nbformat": 4,
 "nbformat_minor": 2
}
