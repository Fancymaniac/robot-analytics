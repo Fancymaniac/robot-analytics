{
 "cells": [
  {
   "cell_type": "markdown",
   "metadata": {},
   "source": [
    "Problem 1: Electric Field from Charge Distribution"
   ]
  },
  {
   "cell_type": "code",
   "execution_count": 1,
   "metadata": {},
   "outputs": [
    {
     "name": "stdout",
     "output_type": "stream",
     "text": [
      "Charge: 15.0 Coulombs\n",
      "Distance: 16.0 Meters\n",
      "Electric Field = 5.27e+08 N/C\n"
     ]
    }
   ],
   "source": [
    "e0= 8.8541 * pow(10,-12)\n",
    "pi= 3.141\n",
    "\n",
    "Q= float(input(\"Enter Charge in Coulombs:\"))\n",
    "r= float(input(\"Enter Distance in Meters:\"))\n",
    "\n",
    "print(f\"Charge: {Q} Coulombs\")\n",
    "print(f\"Distance: {r} Meters\")\n",
    "\n",
    "E= Q/(4*pi*e0*(r**2))\n",
    "\n",
    "print(f\"Electric Field = {E:.2e} N/C\")"
   ]
  },
  {
   "cell_type": "markdown",
   "metadata": {},
   "source": [
    "Problem 2: Combined Gas Law"
   ]
  },
  {
   "cell_type": "code",
   "execution_count": 2,
   "metadata": {},
   "outputs": [
    {
     "name": "stdout",
     "output_type": "stream",
     "text": [
      "Initial Pressure: 32.0 atm\n",
      "Initial Volume: 43.0 L\n",
      "Initial Temperature: 54.0 K\n",
      "Final Pressure: 65.0 atm\n",
      "Final Volume: 76.0 L\n",
      "Final Temperature = 193.87 K\n"
     ]
    }
   ],
   "source": [
    "P1 = float(input(\"Enter initial pressure in atm: \"))\n",
    "V1 = float(input(\"Enter initial volume in L: \"))\n",
    "T1 = float(input(\"Enter initial temperature in K: \"))\n",
    "P2 = float(input(\"Enter final pressure in atm: \"))\n",
    "V2 = float(input(\"Enter final volume in L: \"))\n",
    "\n",
    "print(f\"Initial Pressure: {P1} atm\")\n",
    "print(f\"Initial Volume: {V1} L\")\n",
    "print(f\"Initial Temperature: {T1} K\")\n",
    "print(f\"Final Pressure: {P2} atm\")\n",
    "print(f\"Final Volume: {V2} L\")\n",
    "\n",
    "T2= (P2*V2*T1)/(P1*V1)\n",
    "\n",
    "print(f\"Final Temperature = {T2:.2f} K\")"
   ]
  },
  {
   "cell_type": "markdown",
   "metadata": {},
   "source": [
    "Problem 3: Nonlinear Oscillator"
   ]
  },
  {
   "cell_type": "code",
   "execution_count": 3,
   "metadata": {},
   "outputs": [
    {
     "name": "stdout",
     "output_type": "stream",
     "text": [
      "Spring Constant: 2132.0 N/m\n",
      "Damping Coefficient: 43.0 N/m^3\n",
      "Displacement: 56.0 meters\n",
      "Restoring Force = 7670880.00 N\n"
     ]
    }
   ],
   "source": [
    "k = float(input(\"Enter spring constant in N/m: \"))\n",
    "b = float(input(\"Enter damping coefficient  in N/m^3: \"))\n",
    "x = float(input(\"Enter displacement in meters: \"))\n",
    "\n",
    "print(f\"Spring Constant: {k} N/m\")\n",
    "print(f\"Damping Coefficient: {b} N/m^3\")\n",
    "print(f\"Displacement: {x} meters\")\n",
    "\n",
    "F = k * x + b * (x ** 3)\n",
    "\n",
    "print(f\"Restoring Force = {F:.2f} N\")"
   ]
  },
  {
   "cell_type": "markdown",
   "metadata": {},
   "source": [
    "Problem 4: Heat Transfer by Conduction"
   ]
  },
  {
   "cell_type": "code",
   "execution_count": 4,
   "metadata": {},
   "outputs": [
    {
     "name": "stdout",
     "output_type": "stream",
     "text": [
      "Thermal Conductivity (k): 64.0 W/m*K\n",
      "Area (A): 432.0 m^2\n",
      "Temperature T1: 4324.0 K\n",
      "Temperature T2: 4234.0 K\n",
      "Thickness (L): 544546.0 meters\n",
      "Heat transfer (Q) = 4.57 Joules\n"
     ]
    }
   ],
   "source": [
    "k = float(input(\"Enter thermal conductivity (k) in W/m*K: \"))\n",
    "A = float(input(\"Enter area (A) in m^2: \"))\n",
    "T1 = float(input(\"Enter temperature T1 in K: \"))\n",
    "T2 = float(input(\"Enter temperature T2 in K: \"))\n",
    "L = float(input(\"Enter thickness (L) in meters: \"))\n",
    "\n",
    "print(f\"Thermal Conductivity (k): {k} W/m*K\")\n",
    "print(f\"Area (A): {A} m^2\")\n",
    "print(f\"Temperature T1: {T1} K\")\n",
    "print(f\"Temperature T2: {T2} K\")\n",
    "print(f\"Thickness (L): {L} meters\")\n",
    "\n",
    "Q = k * A * (T1 - T2) / L\n",
    "\n",
    "print(f\"Heat transfer (Q) = {Q:.2f} Joules\")"
   ]
  },
  {
   "cell_type": "markdown",
   "metadata": {},
   "source": [
    "Problem 5: Reynolds Number"
   ]
  },
  {
   "cell_type": "code",
   "execution_count": 5,
   "metadata": {},
   "outputs": [
    {
     "name": "stdout",
     "output_type": "stream",
     "text": [
      "Fluid Density : 78.0 kg/m^3\n",
      "Flow Velocity (v): 675.0 m/s\n",
      "Diameter: 673.0 meters\n",
      "Dynamic Viscosity: 782.0 Pa*s\n",
      "Reynolds Number (Re) = 45311.32\n"
     ]
    }
   ],
   "source": [
    "rho = float(input(\"Enter fluid density in kg/m^3: \"))\n",
    "v = float(input(\"Enter flow velocity (v) in m/s: \"))\n",
    "D = float(input(\"Enter diameter (D) in meters: \"))\n",
    "mu = float(input(\"Enter dynamic viscosity in Pa*s: \"))\n",
    "\n",
    "print(f\"Fluid Density : {rho} kg/m^3\")\n",
    "print(f\"Flow Velocity (v): {v} m/s\")\n",
    "print(f\"Diameter: {D} meters\")\n",
    "print(f\"Dynamic Viscosity: {mu} Pa*s\")\n",
    "\n",
    "Re = (rho * v * D) / mu\n",
    "\n",
    "print(f\"Reynolds Number (Re) = {Re:.2f}\")"
   ]
  },
  {
   "cell_type": "markdown",
   "metadata": {},
   "source": [
    "Problem 6: Modal Analysis of Structures"
   ]
  },
  {
   "cell_type": "code",
   "execution_count": 6,
   "metadata": {},
   "outputs": [
    {
     "name": "stdout",
     "output_type": "stream",
     "text": [
      "Stiffness (k): 67.0 N/m\n",
      "Mass (m): 78.0 kg\n",
      "Natural frequency = 0.93 rad/s\n"
     ]
    }
   ],
   "source": [
    "k = float(input(\"Enter stiffness (k) in N/m: \"))\n",
    "m = float(input(\"Enter mass (m) in kg: \"))\n",
    "\n",
    "print(f\"Stiffness (k): {k} N/m\")\n",
    "print(f\"Mass (m): {m} kg\")\n",
    "\n",
    "omega_n = (k / m) ** 0.5\n",
    "\n",
    "print(f\"Natural frequency = {omega_n:.2f} rad/s\")"
   ]
  },
  {
   "cell_type": "markdown",
   "metadata": {},
   "source": [
    "Problem 7: First Law of Thermodynamics"
   ]
  },
  {
   "cell_type": "code",
   "execution_count": 7,
   "metadata": {},
   "outputs": [
    {
     "name": "stdout",
     "output_type": "stream",
     "text": [
      "Change in internal energy (Delta U) = 33.00 Joules\n"
     ]
    }
   ],
   "source": [
    "Q = float(input(\"Enter heat added (Q) in Joules: \"))\n",
    "W = float(input(\"Enter work done (W) in Joules: \"))\n",
    "\n",
    "delta_U = Q - W\n",
    "\n",
    "print(f\"Change in internal energy (Delta U) = {delta_U:.2f} Joules\")"
   ]
  },
  {
   "cell_type": "markdown",
   "metadata": {},
   "source": [
    "Problem 8: Structural Load Calculation"
   ]
  },
  {
   "cell_type": "code",
   "execution_count": 8,
   "metadata": {},
   "outputs": [
    {
     "name": "stdout",
     "output_type": "stream",
     "text": [
      "Stress = 42.83 Pascals\n"
     ]
    }
   ],
   "source": [
    "F = float(input(\"Enter axial force (F) in Newtons: \"))\n",
    "A = float(input(\"Enter cross-sectional area (A) in m²: \"))\n",
    "M = float(input(\"Enter moment (M) in N·m: \"))\n",
    "I = float(input(\"Enter moment of inertia (I) in m⁴: \"))\n",
    "d = float(input(\"Enter distance from neutral axis (d) in meters: \"))\n",
    "\n",
    "sigma = (F / A) + (M * d / I)\n",
    "\n",
    "print(f\"Stress = {sigma:.2f} Pascals\")"
   ]
  },
  {
   "cell_type": "markdown",
   "metadata": {},
   "source": [
    "Problem 9: Damped Harmonic Motion"
   ]
  },
  {
   "cell_type": "code",
   "execution_count": 9,
   "metadata": {},
   "outputs": [
    {
     "name": "stdout",
     "output_type": "stream",
     "text": [
      "Amplitude (A): 56.0 meters\n",
      "Damped Angular Frequency (ω_d): 45.0 radians/second\n",
      "Phase Angle (φ): 23.0 radians\n",
      "Time (t): 553.0 seconds\n",
      "Damping Coefficient (b): 67.0\n",
      "Mass (m): 78.0\n",
      "Displacement (x(t)) = 0.00 meters\n"
     ]
    }
   ],
   "source": [
    "import math\n",
    "A = float(input(\"Enter amplitude (A) in meters: \"))\n",
    "b = float(input(\"Enter damping coefficient (b) in kg/s: \"))\n",
    "m = float(input(\"Enter mass (m) in kg: \"))\n",
    "omega_d = float(input(\"Enter damped angular frequency (ω_d) in rad/s: \"))\n",
    "phi = float(input(\"Enter phase angle in radians: \"))\n",
    "t = float(input(\"Enter time (t) in seconds: \"))\n",
    "\n",
    "print(f\"Amplitude (A): {A} meters\")\n",
    "print(f\"Damped Angular Frequency (ω_d): {omega_d} radians/second\")\n",
    "print(f\"Phase Angle (φ): {phi} radians\")\n",
    "print(f\"Time (t): {t} seconds\")\n",
    "print(f\"Damping Coefficient (b): {b}\")\n",
    "print(f\"Mass (m): {m}\")\n",
    "\n",
    "x_t = A * (2.718 ** (-b * t / (2 * m))) * (math.cos(omega_d * t + phi))\n",
    "\n",
    "print(f\"Displacement (x(t)) = {x_t:.2f} meters\")"
   ]
  },
  {
   "cell_type": "markdown",
   "metadata": {},
   "source": [
    "Problem 10: Capacitance in Series"
   ]
  },
  {
   "cell_type": "code",
   "execution_count": 12,
   "metadata": {},
   "outputs": [
    {
     "name": "stdout",
     "output_type": "stream",
     "text": [
      "Capacitance values: [1.0, 2.0, 3.0, 4.0, 5.0, 6.0, 7.0, 7.0, 8.0, 9.0, 10.0, 11.0, 22.0, 33.0, 44.0, 55.0, 66.0, 77.0, 88.0, 99.0]\n",
      "Total Capacitance (C_total) = 3.00e-01 Farads\n"
     ]
    }
   ],
   "source": [
    "capacitors = input(\"Enter capacitance values (C1, C2, C3, ...) in Farads: \").split(',')\n",
    "C_values = [float(C) for C in capacitors]\n",
    "\n",
    "print(f\"Capacitance values: {C_values}\")\n",
    "\n",
    "C_total = 1 / sum([1/C for C in C_values])\n",
    "\n",
    "print(f\"Total Capacitance (C_total) = {C_total:.2e} Farads\")"
   ]
  }
 ],
 "metadata": {
  "kernelspec": {
   "display_name": "Python 3",
   "language": "python",
   "name": "python3"
  },
  "language_info": {
   "codemirror_mode": {
    "name": "ipython",
    "version": 3
   },
   "file_extension": ".py",
   "mimetype": "text/x-python",
   "name": "python",
   "nbconvert_exporter": "python",
   "pygments_lexer": "ipython3",
   "version": "3.12.6"
  }
 },
 "nbformat": 4,
 "nbformat_minor": 2
}
